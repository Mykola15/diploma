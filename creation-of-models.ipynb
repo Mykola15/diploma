{
 "cells": [
  {
   "cell_type": "code",
   "execution_count": null,
   "metadata": {
    "collapsed": true
   },
   "outputs": [],
   "source": [
    "# Ignore  the warnings\n",
    "import warnings\n",
    "warnings.filterwarnings('always')\n",
    "warnings.filterwarnings('ignore')\n",
    "\n",
    "# data visualisation and manipulation\n",
    "import matplotlib.pyplot as plt\n",
    "from matplotlib import style\n",
    "import seaborn as sns\n",
    "from keras.models import save_model\n",
    "\n",
    "#configure\n",
    "# sets matplotlib to inline and displays graphs below the corressponding cell.\n",
    "%matplotlib inline\n",
    "style.use('fivethirtyeight')\n",
    "sns.set(style='whitegrid',color_codes=True)\n",
    "\n",
    "#model selection\n",
    "from sklearn.model_selection import train_test_split\n",
    "from sklearn.preprocessing import LabelEncoder\n",
    "\n",
    "#preprocess.\n",
    "from keras.preprocessing.image import ImageDataGenerator\n",
    "\n",
    "#dl libraraies\n",
    "from keras.models import Sequential\n",
    "from keras.layers import Dense\n",
    "from tensorflow.keras.optimizers import Adam\n",
    "from tensorflow.keras.utils import to_categorical\n",
    "\n",
    "# specifically for cnn\n",
    "from keras.layers import Flatten,Activation\n",
    "from keras.layers import Conv2D, MaxPooling2D\n",
    "from keras.callbacks import ReduceLROnPlateau\n",
    "\n",
    "import tensorflow as tf\n",
    "import random as rn\n",
    "\n",
    "# specifically for manipulating zipped images and getting numpy arrays of pixel values of images.\n",
    "import numpy as np\n",
    "from tqdm import tqdm\n",
    "import os\n",
    "\n",
    "from sklearn.neighbors import KNeighborsClassifier\n",
    "from sklearn.tree import DecisionTreeClassifier\n",
    "from sklearn.naive_bayes import GaussianNB\n",
    "from sklearn.ensemble import RandomForestClassifier\n",
    "from sklearn.metrics import accuracy_score"
   ]
  },
  {
   "cell_type": "code",
   "execution_count": null,
   "outputs": [],
   "source": [
    "X=[]\n",
    "Z=[]\n",
    "IMG_SIZE=150\n",
    "AIRPLANE_DIR='NEW_DATASET/AIRPLANE'\n",
    "BIRD_DIR='NEW_DATASET/BIRD'\n",
    "DRONE_DIR='NEW_DATASET/DRONE'\n",
    "HELICOPTER_DIR='NEW_DATASET/HELICOPTER'\n",
    "UAV_DIR='NEW_DATASET/UAV'"
   ],
   "metadata": {
    "collapsed": false
   }
  },
  {
   "cell_type": "code",
   "execution_count": null,
   "outputs": [],
   "source": [
    "def make_train_data(data_type, folder):\n",
    "    datagen = ImageDataGenerator(\n",
    "        rotation_range=20,\n",
    "        width_shift_range=0.2,\n",
    "        height_shift_range=0.2,\n",
    "        shear_range=0.2,\n",
    "        zoom_range=0.2,\n",
    "        horizontal_flip=True,\n",
    "        fill_mode='nearest'  # You can choose other fill modes as well\n",
    "    )\n",
    "\n",
    "    for img in tqdm(os.listdir(folder)):\n",
    "        if img.endswith(\".DS_Store\"):\n",
    "            continue\n",
    "        path = os.path.join(folder, img)\n",
    "        img = Image.open(path)\n",
    "        img = img.resize((IMG_SIZE, IMG_SIZE))\n",
    "        img_array = np.array(img)\n",
    "\n",
    "        # Check if the image is grayscale (2D)\n",
    "        if len(img_array.shape) == 2:\n",
    "            # Expand dimensions to (height, width, 3) for grayscale images\n",
    "            img_array = np.expand_dims(img_array, axis=-1)\n",
    "            img_array = np.repeat(img_array, 3, axis=-1)  # Convert to 3 channels\n",
    "\n",
    "        # Expand the dimensions to (1, IMG_SIZE, IMG_SIZE, 3) for data augmentation\n",
    "        img_array = np.expand_dims(img_array, axis=0)\n",
    "\n",
    "        # Generate augmented images\n",
    "        aug_iter = datagen.flow(img_array, batch_size=1)\n",
    "\n",
    "        # Append the augmented images and labels to X and Z\n",
    "        for _ in range(2): # Change number to increase size\n",
    "            augmented_img = next(aug_iter)[0]\n",
    "            X.append(augmented_img)\n",
    "            Z.append(str(data_type))"
   ],
   "metadata": {
    "collapsed": false
   }
  },
  {
   "cell_type": "code",
   "execution_count": null,
   "outputs": [],
   "source": [
    "make_train_data('AIRPLANE',AIRPLANE_DIR)\n",
    "make_train_data('BIRD',BIRD_DIR)\n",
    "make_train_data('DRONE',DRONE_DIR)\n",
    "make_train_data('HELICOPTER',HELICOPTER_DIR)\n",
    "make_train_data('UAV',UAV_DIR)\n",
    "print('Total Length: ', len(X))"
   ],
   "metadata": {
    "collapsed": false
   }
  },
  {
   "cell_type": "code",
   "execution_count": null,
   "outputs": [],
   "source": [
    "fig,ax=plt.subplots(5,2)\n",
    "fig.set_size_inches(30,30)\n",
    "for i in range(5):\n",
    "    for j in range(2):\n",
    "        l = rn.randint(0, len(Z))\n",
    "        print(\"Selected index:\", l)  # Add this line to check the selected index\n",
    "        ax[i, j].imshow(X[l])\n",
    "        ax[i, j].set_title('Object: ' + Z[l])"
   ],
   "metadata": {
    "collapsed": false
   }
  },
  {
   "cell_type": "code",
   "execution_count": null,
   "outputs": [],
   "source": [
    "le=LabelEncoder()\n",
    "Y=le.fit_transform(Z)\n",
    "Y=to_categorical(Y,5)\n",
    "X=np.array(X)\n",
    "X=X/255"
   ],
   "metadata": {
    "collapsed": false
   }
  },
  {
   "cell_type": "code",
   "execution_count": null,
   "outputs": [],
   "source": [
    "x_train,x_test,y_train,y_test=train_test_split(X,Y,test_size=0.2,random_state=42)"
   ],
   "metadata": {
    "collapsed": false
   }
  },
  {
   "cell_type": "code",
   "execution_count": null,
   "outputs": [],
   "source": [
    "np.random.seed(42)\n",
    "rn.seed(42)\n",
    "tf.random.set_seed(42)"
   ],
   "metadata": {
    "collapsed": false
   }
  },
  {
   "cell_type": "code",
   "execution_count": null,
   "outputs": [],
   "source": [
    "def train_knn_model(x_train, y_train, x_test, y_test):\n",
    "    # Flatten the image data\n",
    "    x_train_flatten = x_train.reshape(x_train.shape[0], -1)\n",
    "    x_test_flatten = x_test.reshape(x_test.shape[0], -1)\n",
    "\n",
    "    model = KNeighborsClassifier(n_neighbors=5)\n",
    "    model.fit(x_train_flatten, y_train)\n",
    "\n",
    "    # Flatten the test data for prediction\n",
    "    y_pred = model.predict(x_test_flatten)\n",
    "\n",
    "    accuracy = accuracy_score(y_test, y_pred)\n",
    "\n",
    "    return model, accuracy\n",
    "\n",
    "def train_decision_tree_model(x_train, y_train, x_test, y_test):\n",
    "    # Flatten the image data\n",
    "    x_train_flatten = x_train.reshape(x_train.shape[0], -1)\n",
    "    x_test_flatten = x_test.reshape(x_test.shape[0], -1)\n",
    "\n",
    "    model = DecisionTreeClassifier()\n",
    "    model.fit(x_train_flatten, y_train)\n",
    "    y_pred = model.predict(x_test_flatten)\n",
    "    accuracy = accuracy_score(y_test, y_pred)\n",
    "    return model, accuracy\n",
    "\n",
    "def train_naive_bayes_model(x_train, y_train, x_test, y_test):\n",
    "    # Flatten the image data\n",
    "    x_train_flatten = x_train.reshape(x_train.shape[0], -1)\n",
    "    x_test_flatten = x_test.reshape(x_test.shape[0], -1)\n",
    "\n",
    "    # Convert one-hot encoded labels back to class labels\n",
    "    label_encoder = LabelEncoder()\n",
    "    y_train_labels = label_encoder.fit_transform(np.argmax(y_train, axis=1))\n",
    "    y_test_labels = label_encoder.transform(np.argmax(y_test, axis=1))\n",
    "\n",
    "    model = GaussianNB()\n",
    "    model.fit(x_train_flatten, y_train_labels)\n",
    "    y_pred = model.predict(x_test_flatten)\n",
    "    accuracy = accuracy_score(y_test_labels, y_pred)\n",
    "    return model, accuracy\n",
    "\n",
    "def train_random_forest_model(x_train, y_train, x_test, y_test):\n",
    "    # Flatten the image data\n",
    "    x_train_flatten = x_train.reshape(x_train.shape[0], -1)\n",
    "    x_test_flatten = x_test.reshape(x_test.shape[0], -1)\n",
    "\n",
    "    model = RandomForestClassifier(n_estimators=100, random_state=42)\n",
    "    model.fit(x_train_flatten, y_train)\n",
    "    y_pred = model.predict(x_test_flatten)\n",
    "    accuracy = accuracy_score(y_test, y_pred)\n",
    "    return model, accuracy"
   ],
   "metadata": {
    "collapsed": false
   }
  },
  {
   "cell_type": "code",
   "execution_count": null,
   "outputs": [],
   "source": [
    "def create_cnn_model(num_classes):\n",
    "    model = Sequential()\n",
    "    model.add(Conv2D(filters = 32, kernel_size = (5,5),padding = 'Same',activation ='relu', input_shape = (IMG_SIZE,IMG_SIZE,3)))\n",
    "    model.add(MaxPooling2D(pool_size=(2, 2)))\n",
    "\n",
    "    model.add(Conv2D(filters=64, kernel_size=(3, 3), padding='same', activation='relu'))\n",
    "    model.add(MaxPooling2D(pool_size=(2, 2), strides=(2, 2)))\n",
    "\n",
    "    model.add(Conv2D(filters=96, kernel_size=(3, 3), padding='same', activation='relu'))\n",
    "    model.add(MaxPooling2D(pool_size=(2, 2), strides=(2, 2)))\n",
    "\n",
    "    model.add(Conv2D(filters=96, kernel_size=(3, 3), padding='same', activation='relu'))\n",
    "    model.add(MaxPooling2D(pool_size=(2, 2), strides=(2, 2)))\n",
    "\n",
    "    model.add(Flatten())\n",
    "    model.add(Dense(512))\n",
    "    model.add(Activation('relu'))\n",
    "    model.add(Dense(num_classes, activation=\"softmax\"))\n",
    "\n",
    "    return model\n",
    "\n",
    "def create_fnn_model(num_classes):\n",
    "    model = Sequential()\n",
    "    model.add(Flatten(input_shape = (IMG_SIZE,IMG_SIZE,3)))\n",
    "    model.add(Dense(128, activation='relu'))\n",
    "    model.add(Dense(64, activation='relu'))\n",
    "    model.add(Dense(num_classes, activation='softmax'))\n",
    "\n",
    "    return model"
   ],
   "metadata": {
    "collapsed": false
   }
  },
  {
   "cell_type": "code",
   "execution_count": null,
   "outputs": [],
   "source": [
    "def train_model(model, x_train, y_train, x_test, y_test, batch_size=128, epochs=50):\n",
    "    # Learning rate annealer\n",
    "    red_lr = ReduceLROnPlateau(monitor='val_accuracy', patience=3, verbose=1, factor=0.1)\n",
    "\n",
    "    # Data augmentation\n",
    "    datagen = ImageDataGenerator(\n",
    "        featurewise_center=False,\n",
    "        samplewise_center=False,\n",
    "        featurewise_std_normalization=False,\n",
    "        samplewise_std_normalization=False,\n",
    "        zca_whitening=False,\n",
    "        rotation_range=20,\n",
    "        zoom_range=0.2,\n",
    "        width_shift_range=0.25,\n",
    "        height_shift_range=0.25,\n",
    "        horizontal_flip=True,\n",
    "        vertical_flip=False)\n",
    "\n",
    "    datagen.fit(x_train)\n",
    "\n",
    "    # Model compilation\n",
    "    model.compile(optimizer=Adam(lr=0.001), loss='categorical_crossentropy', metrics=['accuracy'])\n",
    "\n",
    "    model.summary()\n",
    "\n",
    "    # Model training\n",
    "    history = model.fit_generator(datagen.flow(x_train, y_train, batch_size=batch_size),\n",
    "                                  epochs=epochs, validation_data=(x_test, y_test),\n",
    "                                  verbose=1, steps_per_epoch=x_train.shape[0] // batch_size,\n",
    "                                  callbacks=[red_lr])\n",
    "\n",
    "    # Specify the path where you want to save the model\n",
    "    model_save_path = '/Users/mykola/Desktop/last_cnn_model.h5'\n",
    "\n",
    "    # Save the model to the specified path\n",
    "    save_model(model, model_save_path)\n",
    "\n",
    "    return history"
   ],
   "metadata": {
    "collapsed": false
   }
  },
  {
   "cell_type": "code",
   "execution_count": null,
   "outputs": [],
   "source": [
    "def show_results(val):\n",
    "    plt.plot(val.history['loss'])\n",
    "    plt.plot(val.history['val_loss'])\n",
    "    plt.title('Model Loss')\n",
    "    plt.ylabel('Loss')\n",
    "    plt.xlabel('Epochs')\n",
    "    plt.legend(['train', 'test'])\n",
    "    plt.show()\n",
    "\n",
    "    plt.plot(val.history['accuracy'])\n",
    "    plt.plot(val.history['val_accuracy'])\n",
    "    plt.title('Model Accuracy')\n",
    "    plt.ylabel('Accuracy')\n",
    "    plt.xlabel('Epochs')\n",
    "    plt.legend(['train', 'test'])\n",
    "    plt.show()"
   ],
   "metadata": {
    "collapsed": false
   }
  },
  {
   "cell_type": "code",
   "execution_count": null,
   "outputs": [],
   "source": [
    "knn_model, knn_acc = train_knn_model(x_train, y_train, x_test, y_test)\n",
    "knn_acc"
   ],
   "metadata": {
    "collapsed": false
   }
  },
  {
   "cell_type": "code",
   "execution_count": null,
   "outputs": [],
   "source": [
    "decision_tree_model, decision_tree_acc = train_decision_tree_model(x_train, y_train, x_test, y_test)\n",
    "decision_tree_acc"
   ],
   "metadata": {
    "collapsed": false
   }
  },
  {
   "cell_type": "code",
   "execution_count": null,
   "outputs": [],
   "source": [
    "naive_bayes_model, naive_bayes_acc = train_naive_bayes_model(x_train, y_train, x_test, y_test)\n",
    "naive_bayes_acc"
   ],
   "metadata": {
    "collapsed": false
   }
  },
  {
   "cell_type": "code",
   "execution_count": null,
   "outputs": [],
   "source": [
    "random_forest_model, random_forest_acc = train_random_forest_model(x_train, y_train, x_test, y_test)\n",
    "random_forest_acc"
   ],
   "metadata": {
    "collapsed": false
   }
  },
  {
   "cell_type": "code",
   "execution_count": null,
   "outputs": [],
   "source": [
    "cnn_model = train_model(create_cnn_model(5), x_train, y_train, x_test, y_test, 128, 50)\n",
    "show_results(cnn_model)"
   ],
   "metadata": {
    "collapsed": false
   }
  },
  {
   "cell_type": "code",
   "execution_count": null,
   "outputs": [],
   "source": [
    "fnn_model = train_model(create_fnn_model(5), x_train, y_train, x_test, y_test, 128, 25)\n",
    "show_results(fnn_model)"
   ],
   "metadata": {
    "collapsed": false
   }
  },
  {
   "cell_type": "code",
   "execution_count": null,
   "outputs": [],
   "source": [],
   "metadata": {
    "collapsed": false
   }
  }
 ],
 "metadata": {
  "kernelspec": {
   "display_name": "Python 3",
   "language": "python",
   "name": "python3"
  },
  "language_info": {
   "codemirror_mode": {
    "name": "ipython",
    "version": 2
   },
   "file_extension": ".py",
   "mimetype": "text/x-python",
   "name": "python",
   "nbconvert_exporter": "python",
   "pygments_lexer": "ipython2",
   "version": "2.7.6"
  }
 },
 "nbformat": 4,
 "nbformat_minor": 0
}
