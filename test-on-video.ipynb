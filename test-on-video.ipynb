{
 "cells": [
  {
   "cell_type": "code",
   "execution_count": null,
   "outputs": [],
   "source": [
    "import numpy as np\n",
    "from keras.models import load_model\n",
    "from PIL import Image\n",
    "import matplotlib.pyplot as plt\n",
    "from IPython.display import clear_output\n",
    "import imageio\n",
    "import time\n",
    "\n",
    "# Load the pretrained CNN model\n",
    "model = load_model('/Users/mykola/Desktop/model.h5')\n",
    "\n",
    "# Define the labels corresponding to your classes\n",
    "class_labels = ['airplane', 'fighter jet', 'drone', 'missile', 'helicopter']\n",
    "\n",
    "# Open an MP4 video file\n",
    "video_file = '/Users/mykola/Desktop/helicopter.mp4'  # Specify the path to your MP4 video file\n",
    "\n",
    "# Read the video using imageio\n",
    "video_reader = imageio.get_reader(video_file)\n",
    "\n",
    "# Initialize variables for FPS calculation\n",
    "start_time = time.time()\n",
    "frame_count = 0\n",
    "\n",
    "for frame in video_reader:\n",
    "    # Preprocess the frame\n",
    "    frame_pil = Image.fromarray(frame)  # Convert to PIL Image\n",
    "    frame_pil = frame_pil.resize((150, 150))  # Resize to match the model input size\n",
    "    frame_np = np.array(frame_pil)  # Convert back to NumPy array\n",
    "    frame_normalized = frame_np / 255.0  # Normalize pixel values (assuming your model was trained with normalized data)\n",
    "\n",
    "    # Predict using the model\n",
    "    input_frame = np.expand_dims(frame_normalized, axis=0)  # Add batch dimension\n",
    "    predictions = model.predict(input_frame)\n",
    "    predicted_class = np.argmax(predictions)\n",
    "    predicted_label = class_labels[predicted_class]\n",
    "    clear_output(wait=True)\n",
    "    # Display the result using matplotlib\n",
    "    plt.figure(figsize=(10, 6))\n",
    "    plt.imshow(frame_normalized)\n",
    "    plt.axis('off')\n",
    "\n",
    "    # Calculate FPS\n",
    "    frame_count += 1\n",
    "    elapsed_time = time.time() - start_time\n",
    "    fps = frame_count / elapsed_time\n",
    "\n",
    "    plt.title('Object Recognition: ' + predicted_label)\n",
    "    plt.show()\n",
    "\n",
    "    # clear_output(wait=True)  # Clear the previous frame\n",
    "\n",
    "\n",
    "\n",
    "# Close the video reader\n",
    "video_reader.close()\n"
   ],
   "metadata": {
    "collapsed": false
   }
  }
 ],
 "metadata": {
  "kernelspec": {
   "display_name": "Python 3",
   "language": "python",
   "name": "python3"
  },
  "language_info": {
   "codemirror_mode": {
    "name": "ipython",
    "version": 2
   },
   "file_extension": ".py",
   "mimetype": "text/x-python",
   "name": "python",
   "nbconvert_exporter": "python",
   "pygments_lexer": "ipython2",
   "version": "2.7.6"
  }
 },
 "nbformat": 4,
 "nbformat_minor": 0
}
